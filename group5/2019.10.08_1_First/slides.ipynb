{
 "cells": [
  {
   "cell_type": "markdown",
   "metadata": {
    "slideshow": {
     "slide_type": "slide"
    }
   },
   "source": [
    " # Упражнение 1"
   ]
  },
  {
   "cell_type": "markdown",
   "metadata": {
    "slideshow": {
     "slide_type": "slide"
    }
   },
   "source": [
    "## Запознаване"
   ]
  },
  {
   "cell_type": "markdown",
   "metadata": {
    "slideshow": {
     "slide_type": "subslide"
    }
   },
   "source": [
    "Аз съм Мария Паскова, ФМИ, СИ, ИИОЗ"
   ]
  },
  {
   "cell_type": "markdown",
   "metadata": {
    "slideshow": {
     "slide_type": "subslide"
    }
   },
   "source": [
    "А вие кои сте?"
   ]
  },
  {
   "cell_type": "markdown",
   "metadata": {
    "slideshow": {
     "slide_type": "subslide"
    }
   },
   "source": [
    "- Какво сте завършили?\n",
    "- Програмирали ли сте?\n",
    "- Какъв опит имате?\n",
    "- Любимо място в България?"
   ]
  },
  {
   "cell_type": "markdown",
   "metadata": {
    "slideshow": {
     "slide_type": "slide"
    }
   },
   "source": [
    "## За курса - административно"
   ]
  },
  {
   "cell_type": "markdown",
   "metadata": {
    "slideshow": {
     "slide_type": "subslide"
    }
   },
   "source": [
    "- Упражнения (на 21.10 няма да имаме -> кога ще го отработим?)\n",
    "- Практикум - много желателен\n",
    "- Лекции\n",
    "- Оценяване\n",
    "- Slack, Moodle, Github"
   ]
  },
  {
   "cell_type": "markdown",
   "metadata": {
    "slideshow": {
     "slide_type": "subslide"
    }
   },
   "source": [
    "## С какво ще се занимаваме - по същество"
   ]
  },
  {
   "cell_type": "markdown",
   "metadata": {
    "slideshow": {
     "slide_type": "fragment"
    }
   },
   "source": [
    "- C++\n",
    "- IDE vs Editors\n",
    "- Среди за разработка - Visual Studio (VS), CodeBlocks, каквото желаете\n"
   ]
  },
  {
   "cell_type": "markdown",
   "metadata": {
    "slideshow": {
     "slide_type": "slide"
    }
   },
   "source": [
    "## Езици за програмиране"
   ]
  },
  {
   "cell_type": "markdown",
   "metadata": {
    "slideshow": {
     "slide_type": "subslide"
    }
   },
   "source": [
    "- Ниско ниво\n",
    "- Високо ниво\n",
    "    - Компилирани - C++, Java, C#, Go, Haskell, Rust\n",
    "    - Интерпретирани - JavaScript, Python"
   ]
  },
  {
   "cell_type": "markdown",
   "metadata": {
    "slideshow": {
     "slide_type": "slide"
    }
   },
   "source": [
    "### Задача 1: Hello world\n",
    "Напишете програма, която извежда на конзолата \"Hello world!\"\n",
    "\n",
    "Изход:\n",
    "\"Hello world!\"\n"
   ]
  },
  {
   "cell_type": "markdown",
   "metadata": {
    "slideshow": {
     "slide_type": "slide"
    }
   },
   "source": [
    "### Задача 2: Смени числата\n",
    "Напишете програма, която чете от конзолата две числа и разменя стойностите им.\n",
    "\n",
    "Вход: \n",
    "```\n",
    "\t5 9\n",
    "```\n",
    "Изход: \n",
    "```\n",
    "\t9 5\n",
    "```"
   ]
  },
  {
   "cell_type": "markdown",
   "metadata": {
    "slideshow": {
     "slide_type": "slide"
    }
   },
   "source": [
    "## What is Git?\n",
    "\n",
    "- Git\n",
    "- Github\n",
    "\n",
    "- https://www.codecademy.com/learn/learn-git\n",
    "- https://try.github.io/\n",
    "- https://guides.github.com/activities/hello-world/"
   ]
  },
  {
   "cell_type": "markdown",
   "metadata": {
    "slideshow": {
     "slide_type": "slide"
    }
   },
   "source": [
    "Общи приказки\n",
    "- учете и се упражнявайте\n",
    "- използвайте интернет\n",
    "- ще трябва да вложите поне 10000 часа\n",
    "- задавайте въпроси, но след като сте проверили"
   ]
  },
  {
   "cell_type": "markdown",
   "metadata": {
    "slideshow": {
     "slide_type": "slide"
    }
   },
   "source": [
    "Форма за обратна връзка\n",
    "https://forms.gle/f4vGnb3TNeSP3puSA"
   ]
  },
  {
   "cell_type": "markdown",
   "metadata": {
    "slideshow": {
     "slide_type": "slide"
    }
   },
   "source": [
    "## Next time...\n",
    "\n",
    "- Вход и изход\n",
    "- Типове данни\n",
    "- Бройни системи\n",
    "- Програми с основни аритметични операции"
   ]
  }
 ],
 "metadata": {
  "celltoolbar": "Slideshow",
  "kernelspec": {
   "display_name": "Python 3",
   "language": "python",
   "name": "python3"
  },
  "language_info": {
   "codemirror_mode": {
    "name": "ipython",
    "version": 3
   },
   "file_extension": ".py",
   "mimetype": "text/x-python",
   "name": "python",
   "nbconvert_exporter": "python",
   "pygments_lexer": "ipython3",
   "version": "3.7.0"
  }
 },
 "nbformat": 4,
 "nbformat_minor": 2
}
